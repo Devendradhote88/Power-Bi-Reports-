{
  "nbformat": 4,
  "nbformat_minor": 0,
  "metadata": {
    "colab": {
      "provenance": [],
      "authorship_tag": "ABX9TyMh0C5ycTeimIdYhJJUv4ra",
      "include_colab_link": true
    },
    "kernelspec": {
      "name": "python3",
      "display_name": "Python 3"
    },
    "language_info": {
      "name": "python"
    }
  },
  "cells": [
    {
      "cell_type": "markdown",
      "metadata": {
        "id": "view-in-github",
        "colab_type": "text"
      },
      "source": [
        "<a href=\"https://colab.research.google.com/github/Devendradhote88/Power-Bi-Reports-/blob/main/OTP_verification_system.ipynb\" target=\"_parent\"><img src=\"https://colab.research.google.com/assets/colab-badge.svg\" alt=\"Open In Colab\"/></a>"
      ]
    },
    {
      "cell_type": "code",
      "source": [
        "import random\n",
        "import time\n",
        "import smtplib\n",
        "from email.mime.text import MIMEText\n",
        "from email.mime.multipart import MIMEMultipart\n",
        "\n",
        "# 2.Develop a function to simulate sending the OTP to the user's email address.\n",
        "# FUNCTION TO STORE USER DATA INFORMATION.\n",
        "class EmailOTPSystem:\n",
        "    def __init__(self, sender_email, sender_password, smtp_server, smtp_port):\n",
        "        self.sender_email = sender_email\n",
        "        self.sender_password = sender_password\n",
        "        self.smtp_server = smtp_server\n",
        "        self.smtp_port = smtp_port\n",
        "        self.otp = None\n",
        "        self.expiry_time = None\n",
        "\n",
        "# 1.Implement a function to generate a 6-digit OTP randomly.\n",
        "# FUNCTION FOR CREATING A RANDOM 6 DIGIT NUMBERS AND SETING EXPIRY TIME TO 5 MINUTES.\n",
        "    def generate_otp(self):\n",
        "        self.otp = random.randint(100000, 999999)\n",
        "        self.expiry_time = time.time() + 300\n",
        "\n",
        "# 3.Create a function to prompt the user to enter the OTP received in their email.\n",
        "    def send_otp_email(self, recipient_email):\n",
        "        self.generate_otp() # CALLING FUNCTION\n",
        "        subject = \"Your OTP Verification Code\"\n",
        "        body = f\"Your OTP is {self.otp}. It is valid for 5 minutes.\"\n",
        "\n",
        "# MAIL CONTAINER USING MIMEMULTIPART CONSISTS FROM,TO,SUBJECT.\n",
        "        msg = MIMEMultipart()\n",
        "        msg['From'] = self.sender_email\n",
        "        msg['To'] = recipient_email\n",
        "        msg['Subject'] = subject\n",
        "\n",
        "# METHOD ADDS THE PLAIN TEXT BODY TO EMAIL.\n",
        "        msg.attach(MIMEText(body, 'plain'))\n",
        "\n",
        "# SNIPPETS USED TO - Establishes a connection to an SMTP server.\n",
        "#                  - Secures the connection using TLS.\n",
        "#                  - Authenticates with the server using the sender's credentials.\n",
        "#                  - Formats the email message.\n",
        "#                  - Sends the email to the specified recipient.\n",
        "\n",
        "        with smtplib.SMTP(self.smtp_server, self.smtp_port) as server:\n",
        "            server.starttls()\n",
        "            server.login(self.sender_email, self.sender_password)\n",
        "            text = msg.as_string()\n",
        "            server.sendmail(self.sender_email, recipient_email, text)\n",
        "\n",
        "        print(f\"OTP sent to {recipient_email}\")\n",
        "\n",
        "\n",
        "# 4.Implement a function to verify if the entered OTP matches the generated OTP.\n",
        "# 6.Allow the user to retry OTP entry in case of incorrect input.\n",
        "    def verify_otp(self, entered_otp):\n",
        "        if time.time() > self.expiry_time:\n",
        "            print(\"OTP has expired.\")\n",
        "            return False\n",
        "        if self.otp == entered_otp:\n",
        "            print(\"OTP verified successfully.\")\n",
        "            return True\n",
        "        else:\n",
        "            print(\"Incorrect OTP. Please try again.\")\n",
        "            return False\n",
        "\n",
        "\n",
        "# 5.Ensure proper error handling and user-friendly prompts throughout the system.\n",
        "if __name__ == \"__main__\":\n",
        "    sender_email = \"dhotesagar888@gmail.com\"\n",
        "    sender_password = \"crjn notc qdzc pwlw\"\n",
        "    smtp_server = \"smtp.gmail.com\"\n",
        "    smtp_port = 587\n",
        "    recipient_email = input(\"Enter the recipient email address: \")\n",
        "\n",
        "    email_otp_system = EmailOTPSystem(sender_email, sender_password, smtp_server, smtp_port)\n",
        "    email_otp_system.send_otp_email(recipient_email)\n",
        "    attempts = 3  # Allow 3 attempts to enter the correct OTP\n",
        "\n",
        " # CHECKING IF THE ENTERED OTP IS SAME AS GENERATED OTP IN THREE ATTEMPTS.\n",
        "    while attempts > 0:\n",
        "        user_otp = int(input(\"Enter the OTP: \"))\n",
        "        if email_otp_system.verify_otp(user_otp):\n",
        "            break\n",
        "        attempts -= 1\n",
        "        if attempts > 0:\n",
        "            print(f\"You have {attempts} attempts left.\")\n",
        "        else:\n",
        "            print(\"No attempts left. OTP verification failed.\")\n"
      ],
      "metadata": {
        "colab": {
          "base_uri": "https://localhost:8080/"
        },
        "id": "oxSQ3h912VN9",
        "outputId": "d416f8eb-532a-47b5-93e0-073abbf5c972"
      },
      "execution_count": null,
      "outputs": [
        {
          "output_type": "stream",
          "name": "stdout",
          "text": [
            "Enter the recipient email address: dhotesagar888@gmail.com\n",
            "OTP sent to dhotesagar888@gmail.com\n",
            "Enter the OTP: 364893\n",
            "OTP verified successfully.\n"
          ]
        }
      ]
    },
    {
      "cell_type": "code",
      "source": [],
      "metadata": {
        "id": "R2Ttb4zJUCkJ"
      },
      "execution_count": null,
      "outputs": []
    }
  ]
}